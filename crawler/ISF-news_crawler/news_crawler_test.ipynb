{
 "cells": [
  {
   "cell_type": "code",
   "execution_count": 1,
   "metadata": {},
   "outputs": [],
   "source": [
    "from selenium import webdriver\n",
    "from selenium.webdriver.common.by import By\n",
    "import pandas as pd\n",
    "import openpyxl"
   ]
  },
  {
   "cell_type": "code",
   "execution_count": null,
   "metadata": {},
   "outputs": [],
   "source": [
    "##### Before starting the crawler, check the data\n",
    "driver = webdriver.Chrome('C:/Users/acin/crawler/chromedriver.exe')\n",
    "driver.get(\"https://sport-strategy.org/latest_news\")\n",
    "driver.implicitly_wait(5)"
   ]
  },
  {
   "cell_type": "code",
   "execution_count": null,
   "metadata": {},
   "outputs": [],
   "source": [
    "dic = {}\n",
    "dic_index = 0"
   ]
  },
  {
   "cell_type": "code",
   "execution_count": null,
   "metadata": {},
   "outputs": [],
   "source": [
    "# 35까지만 반복해도 충분 합니다(날짜 때문에)\n",
    "for p in range(2, 5): # => 35\n",
    "    # 한 페이지에 카드 12개\n",
    "    for c in range(0, 12):\n",
    "        card = driver.find_elements(By.CSS_SELECTOR, '.list__item__title')\n",
    "        # 카드 내부로 들어가기\n",
    "        card[c].click()\n",
    "        news_title = driver.find_element(By.CSS_SELECTOR, '.bo_v_title')\n",
    "        news_content = driver.find_element(By.CSS_SELECTOR, '.board__content')\n",
    "        news_content = news_content.find_element(By.ID,'bo_v_con').text\n",
    "        news_content = news_content.replace('\\n', '')   # \\n 제거\n",
    "\n",
    "\n",
    "        dic[dic_index] = [news_title.text, news_content]\n",
    "        dic_index += 1\n",
    "        # 카드 밖으로 나오기\n",
    "        driver.back()\n",
    "    # 다음 페이지로 넘어가기\n",
    "    url = f'https://sport-strategy.org/latest_news?page={p}'\n",
    "    driver.get(url)\n",
    "    driver.implicitly_wait(5)"
   ]
  },
  {
   "cell_type": "code",
   "execution_count": null,
   "metadata": {},
   "outputs": [],
   "source": [
    "# \"기사 출처\" 단어 이후 내용 지우기(성공)\n",
    "\n",
    "for i in range(len(dic)):\n",
    "    test_text = dic[i][1]       # 기사 내용\n",
    "    if '기사 출처' in test_text:\n",
    "        source = test_text.index('기사 출처')\n",
    "        test_text = test_text[:source]\n",
    "    test_text = test_text.replace('  ', ' ')\n",
    "    test_text = test_text.replace('   ', ' ')\n",
    "    dic[i][1] = test_text"
   ]
  },
  {
   "cell_type": "code",
   "execution_count": null,
   "metadata": {},
   "outputs": [],
   "source": [
    "# import re\n",
    "\n",
    "# # 기사 날짜 제거 시도 중 ex)) 2022-11-18 14:21:00\n",
    "# date_pattern = \"([0-9])*-([0-9])*-([0-9])\\s*([0-9])*:([0-9])*:([0-9])\"\n",
    "# a = re.search(date_pattern, test_text)"
   ]
  },
  {
   "cell_type": "code",
   "execution_count": null,
   "metadata": {},
   "outputs": [],
   "source": [
    "# 엑셀 파일 위치\n",
    "# C:\\pythonPractice\\python_study\\crawler\\excel\n",
    "\n",
    "# 엑셀에 저장해야 할 것\n",
    "# 1. 뉴스 제목과 뉴스 내용\n",
    "# 2. 뉴스 제목과 뉴스 내용의 전체 중 명사 빈도수\n",
    "# 이면 될걸요 아마\n",
    "\n",
    "\n",
    "##### Save data to Excel\n",
    "# list_number = list(range(1, d_index + 1))\n",
    "# rows = d_index  # Total number of cards\n",
    "# cols = 5        # Number of columns\n",
    "\n",
    "# initialization = [[0 for c in range(cols)] for r in range(rows)]\n",
    "# for i in range(len(dic)):\n",
    "#     initialization[i] = dic[i]\n",
    "\n",
    "# df = pd.DataFrame(initialization,\n",
    "#                   list_number, columns=['Title', 'Career', 'employment', 'Date of Apply', 'Date of Write'])\n",
    "\n",
    "# with pd.ExcelWriter('C:/pythonPractice/python_study/crawler/excel/isf.xlsx') as writer:\n",
    "#     df.to_excel(writer, sheet_name='sheet1')\n",
    "\n",
    "# print(\"The file has been saved.\")"
   ]
  }
 ],
 "metadata": {
  "kernelspec": {
   "display_name": "Python 3.10.5 64-bit",
   "language": "python",
   "name": "python3"
  },
  "language_info": {
   "codemirror_mode": {
    "name": "ipython",
    "version": 3
   },
   "file_extension": ".py",
   "mimetype": "text/x-python",
   "name": "python",
   "nbconvert_exporter": "python",
   "pygments_lexer": "ipython3",
   "version": "3.10.5"
  },
  "orig_nbformat": 4,
  "vscode": {
   "interpreter": {
    "hash": "7a5dd4170848d4212ce9094ca4cd680451d0aa654bdc4cfb1d0509e2d432fc39"
   }
  }
 },
 "nbformat": 4,
 "nbformat_minor": 2
}
